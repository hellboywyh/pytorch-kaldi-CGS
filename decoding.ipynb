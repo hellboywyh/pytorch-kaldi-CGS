{
 "cells": [
  {
   "cell_type": "code",
   "execution_count": 8,
   "metadata": {},
   "outputs": [],
   "source": [
    "from utils import run_shell, run_shell_display"
   ]
  },
  {
   "cell_type": "code",
   "execution_count": 20,
   "metadata": {},
   "outputs": [
    {
     "data": {
      "text/plain": [
       "'%WER 16.7 | 192 7215 | 85.8 10.7 3.5 2.5 16.7 100.0 | -1.371 | /yhwang/0-Projects/0-kaldi-lstm/2-pytorch-kaldi-cgs/exp/20201021_Pattern_Search/TIMIT_LSTM_fmllr_L2_8bw_16ba_wohcgs_v1/decode_TIMIT_test_out_dnn2/score_5/ctm_39phn.filt.sys\\n'"
      ]
     },
     "execution_count": 20,
     "metadata": {},
     "output_type": "execute_result"
    }
   ],
   "source": [
    "cmd_decode = \"kaldi_decoding_scripts//decode_dnn.sh /yhwang/0-Projects/0-kaldi-lstm/2-pytorch-kaldi-cgs/exp/20201021_Pattern_Search/TIMIT_LSTM_fmllr_L2_8bw_16ba_wohcgs_v1/decoding_TIMIT_test_out_dnn2.conf /yhwang/0-Projects/0-kaldi-lstm/2-pytorch-kaldi-cgs/exp/20201021_Pattern_Search/TIMIT_LSTM_fmllr_L2_8bw_16ba_wohcgs_v1/decode_TIMIT_test_out_dnn2 \\\"/yhwang/0-Projects/0-kaldi-lstm/2-pytorch-kaldi-cgs/exp/20201021_Pattern_Search/TIMIT_LSTM_fmllr_L2_8bw_16ba_wohcgs_v1/exp_files/forward_TIMIT_test_ep*_ck*_out_dnn2_to_decode.ark\\\"\"\n",
    "log_file = \"exp/20201021_Pattern_Search/TIMIT_LSTM_fmllr_L2_8bw_16ba_wohcgs_v1/log.log\"\n",
    "run_shell(cmd_decode, log_file)\n",
    "cmd_res = \"./check_res_dec.sh /yhwang/0-Projects/0-kaldi-lstm/2-pytorch-kaldi-cgs/exp/20201021_Pattern_Search/TIMIT_LSTM_fmllr_L2_8bw_16ba_wohcgs_v1/decode_TIMIT_test_out_dnn2\"\n",
    "run_shell(cmd_res,log_file).decode(\"utf-8\")"
   ]
  },
  {
   "cell_type": "code",
   "execution_count": null,
   "metadata": {},
   "outputs": [],
   "source": []
  },
  {
   "cell_type": "code",
   "execution_count": null,
   "metadata": {},
   "outputs": [],
   "source": []
  }
 ],
 "metadata": {
  "kernelspec": {
   "display_name": "Python 3",
   "language": "python",
   "name": "python3"
  },
  "language_info": {
   "codemirror_mode": {
    "name": "ipython",
    "version": 3
   },
   "file_extension": ".py",
   "mimetype": "text/x-python",
   "name": "python",
   "nbconvert_exporter": "python",
   "pygments_lexer": "ipython3",
   "version": "3.6.8"
  }
 },
 "nbformat": 4,
 "nbformat_minor": 4
}
