{
 "cells": [
  {
   "cell_type": "code",
   "execution_count": 8,
   "metadata": {},
   "outputs": [],
   "source": [
    "from utils import run_shell, run_shell_display"
   ]
  },
  {
   "cell_type": "code",
   "execution_count": 15,
   "metadata": {},
   "outputs": [
    {
     "ename": "SyntaxError",
     "evalue": "invalid token (<ipython-input-15-910d59ad353b>, line 1)",
     "output_type": "error",
     "traceback": [
      "\u001b[0;36m  File \u001b[0;32m\"<ipython-input-15-910d59ad353b>\"\u001b[0;36m, line \u001b[0;32m1\u001b[0m\n\u001b[0;31m    cmd_decode = str(kaldi_decoding_scripts//decode_dnn.sh /yhwang/0-Projects/0-kaldi-lstm/2-pytorch-kaldi-cgs/exp/20201021_Pattern_Search/TIMIT_LSTM_fmllr_L2_8bw_16ba_wohcgs_v1/decoding_TIMIT_test_out_dnn2.conf /yhwang/0-Projects/0-kaldi-lstm/2-pytorch-kaldi-cgs/exp/20201021_Pattern_Search/TIMIT_LSTM_fmllr_L2_8bw_16ba_wohcgs_v1/decode_TIMIT_test_out_dnn2 /yhwang/0-Projects/0-kaldi-lstm/2-pytorch-kaldi-cgs/exp/20201021_Pattern_Search/TIMIT_LSTM_fmllr_L2_8bw_16ba_wohcgs_v1/exp_files/forward_TIMIT_test_ep*_ck*_out_dnn2_to_decode.ark)\u001b[0m\n\u001b[0m                                                                                                                           ^\u001b[0m\n\u001b[0;31mSyntaxError\u001b[0m\u001b[0;31m:\u001b[0m invalid token\n"
     ]
    }
   ],
   "source": [
    "cmd_decode = \"kaldi_decoding_scripts//decode_dnn.sh /yhwang/0-Projects/0-kaldi-lstm/2-pytorch-kaldi-cgs/exp/20201021_Pattern_Search/TIMIT_LSTM_fmllr_L2_8bw_16ba_wohcgs_v1/decoding_TIMIT_test_out_dnn2.conf /yhwang/0-Projects/0-kaldi-lstm/2-pytorch-kaldi-cgs/exp/20201021_Pattern_Search/TIMIT_LSTM_fmllr_L2_8bw_16ba_wohcgs_v1/decode_TIMIT_test_out_dnn2 /yhwang/0-Projects/0-kaldi-lstm/2-pytorch-kaldi-cgs/exp/20201021_Pattern_Search/TIMIT_LSTM_fmllr_L2_8bw_16ba_wohcgs_v1/exp_files/forward_TIMIT_test_ep*_ck*_out_dnn2_to_decode.ark\"\n",
    "log_file = \"exp/20201021_Pattern_Search/TIMIT_LSTM_fmllr_L2_8bw_16ba_wohcgs_v1/log.log\"\n",
    "# run_shell(cmd_decode, log_file)"
   ]
  },
  {
   "cell_type": "code",
   "execution_count": null,
   "metadata": {},
   "outputs": [],
   "source": []
  },
  {
   "cell_type": "code",
   "execution_count": null,
   "metadata": {},
   "outputs": [],
   "source": []
  }
 ],
 "metadata": {
  "kernelspec": {
   "display_name": "Python 3",
   "language": "python",
   "name": "python3"
  },
  "language_info": {
   "codemirror_mode": {
    "name": "ipython",
    "version": 3
   },
   "file_extension": ".py",
   "mimetype": "text/x-python",
   "name": "python",
   "nbconvert_exporter": "python",
   "pygments_lexer": "ipython3",
   "version": "3.6.8"
  }
 },
 "nbformat": 4,
 "nbformat_minor": 4
}
